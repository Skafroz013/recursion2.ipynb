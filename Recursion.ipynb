{
 "cells": [
  {
   "cell_type": "code",
   "execution_count": 2,
   "id": "cb3b34da-be58-4fec-8bc5-e4c429362737",
   "metadata": {},
   "outputs": [
    {
     "name": "stdout",
     "output_type": "stream",
     "text": [
      "Move disk 1 from A to C\n",
      "Move disk 2 from A to B\n",
      "Move disk 1 from C to B\n",
      "Move disk 3 from A to C\n",
      "Move disk 1 from B to A\n",
      "Move disk 2 from B to C\n",
      "Move disk 1 from A to C\n"
     ]
    }
   ],
   "source": [
    "#Q.1 Can you explain the logic and working of the Tower of Hanoi algorithm by writing a Java program? \n",
    "#How does the recursion work, and how are the movements of disks between rods accomplished\n",
    "# The tower of hanoi is a classic recursive algorithm that involves moving a stack of disks from one rod to another\n",
    "\n",
    "def tower_of_hanoi(n, source_rod, target_rod, auxiliary_rod):\n",
    "    if n == 1:\n",
    "        print(f\"Move disk 1 from {source_rod} to {target_rod}\")\n",
    "        return\n",
    "    tower_of_hanoi(n - 1, source_rod, auxiliary_rod, target_rod)\n",
    "    print(f\"Move disk {n} from {source_rod} to {target_rod}\")\n",
    "    tower_of_hanoi(n - 1, auxiliary_rod, target_rod, source_rod)\n",
    "\n",
    "# Example usage:\n",
    "num_disks = 3\n",
    "tower_of_hanoi(num_disks, 'A', 'C', 'B')\n",
    "\n",
    "\n",
    "\n",
    "#How does recursion works\n",
    "\n",
    "#Recursion in the tower of hanoi algorithm works by breaking down a larger problem into smaller subproblems The key observation is that moving n disks can be expressed in terms of moving n-1 disks,\n",
    "#and this redcution continues until you reach the base case of moving just one disk\n",
    "\n",
    "#* Base Case\n",
    "#if there is only one disk to move(n==1) the algorithm simply prints the move from the source rod to the destination rod\n",
    "#THis is the simlest and serves as the base case for recursion\n",
    "#* Recursive Case\n",
    "#For n > 1, the algorithm first recursively moves the top (n-1) disks from the source rod to an auxiliary rod. This step is the recursive call with the source, auxiliary, and destination rods swapped compared to the original call.\n",
    "\n",
    "#After moving the smaller stack to the auxiliary rod, the algorithm prints the move of the nth disk from the source rod to the destination rod.\n",
    "\n",
    "#Finally, it recursively moves the (n-1) disks from the auxiliary rod to the destination rod. This is again a recursive call with the source, destination, and auxiliary rods swapped compared to the original call.\n",
    "\n",
    "#In essence, the algorithm follows the principle of breaking down the problem into smaller, more manageable subproblems, solving those subproblems recursively, and then combining the solutions to get the solution for the original problem.\n",
    "\n",
    "#The movements of disks between rods are accomplished by printing out the steps in each recursive call. The order of the moves ensures that the constraints of the Tower of Hanoi problem (moving only one disk at a time and not placing a larger disk on top of a smaller one) are satisfied. \n",
    "#The recursion takes care of the sequencing and interleaving of moves, making sure that the entire stack of disks is moved from the source rod to the destination rod in the correct order.\n",
    "\n",
    "\n",
    "\n",
    "\n",
    "\n",
    "\n"
   ]
  },
  {
   "cell_type": "code",
   "execution_count": 3,
   "id": "572230b5-4732-4461-848e-d6d9fdc223b7",
   "metadata": {},
   "outputs": [
    {
     "name": "stdout",
     "output_type": "stream",
     "text": [
      "3\n",
      "5\n"
     ]
    }
   ],
   "source": [
    "#Question 2\n",
    "#To return the minimum number of operations required to convert word1 to word2:\n",
    "\n",
    "#The problem you're describing is known as the \"Edit Distance\" problem.\n",
    "#The goal is to find the minimum number of operations (insertion, deletion, or substitution)\n",
    "#required to transform one string into another.\n",
    "\n",
    "\n",
    "def min_distance(word1, word2):\n",
    "    m, n = len(word1), len(word2)\n",
    "\n",
    "    # Initialize a matrix with (m+1) rows and (n+1) columns\n",
    "    dp = [[0] * (n + 1) for _ in range(m + 1)]\n",
    "\n",
    "    # Fill in the base cases\n",
    "    for i in range(m + 1):\n",
    "        dp[i][0] = i\n",
    "    for j in range(n + 1):\n",
    "        dp[0][j] = j\n",
    "\n",
    "    # Fill in the matrix using the rules\n",
    "    for i in range(1, m + 1):\n",
    "        for j in range(1, n + 1):\n",
    "            if word1[i - 1] == word2[j - 1]:\n",
    "                dp[i][j] = dp[i - 1][j - 1]\n",
    "            else:\n",
    "                dp[i][j] = min(dp[i][j - 1], dp[i - 1][j], dp[i - 1][j - 1]) + 1\n",
    "\n",
    "    return dp[m][n]\n",
    "\n",
    "# Example usage:\n",
    "word1 = \"horse\"\n",
    "word2 = \"ros\"\n",
    "print(min_distance(word1, word2))  # Output: 3\n",
    "\n",
    "word1 = \"intention\"\n",
    "word2 = \"execution\"\n",
    "print(min_distance(word1, word2))  # Output: 5\n"
   ]
  },
  {
   "cell_type": "code",
   "execution_count": 3,
   "id": "ba0f2128-3707-40ae-aa19-a2aec3aa0b40",
   "metadata": {},
   "outputs": [
    {
     "name": "stdout",
     "output_type": "stream",
     "text": [
      "The maximum value in the array is: 22\n"
     ]
    }
   ],
   "source": [
    "#Q. 3 Print the max value of the array [ 13, 1, -3, 22, 5]\n",
    "array = [13,1,-3,22,5]\n",
    "\n",
    "max_value = array[0]\n",
    "\n",
    "for num in array[1:]:\n",
    "    if num > max_value:\n",
    "        max_value = num\n",
    "        \n",
    "print(\"The maximum value in the array is:\", max_value)\n"
   ]
  },
  {
   "cell_type": "code",
   "execution_count": 4,
   "id": "ae739595-5494-41f5-85bb-df02331b1006",
   "metadata": {},
   "outputs": [
    {
     "name": "stdout",
     "output_type": "stream",
     "text": [
      "The sum of values in the array is: 120\n"
     ]
    }
   ],
   "source": [
    "#Q.4 Find the sum of the values of the array [92, 23, 15, -20, 10].\n",
    "# Define the array\n",
    "array = [92, 23, 15, -20, 10]\n",
    "\n",
    "# Initialize a variable to store the sum\n",
    "array_sum = 0\n",
    "\n",
    "# Iterate through the array and add each element to the sum\n",
    "for num in array:\n",
    "    array_sum += num\n",
    "\n",
    "# Print the sum of values in the array\n",
    "print(\"The sum of values in the array is:\", array_sum)\n"
   ]
  },
  {
   "cell_type": "code",
   "execution_count": null,
   "id": "68fee5e6-4a8b-4571-a383-077f857ebdf8",
   "metadata": {},
   "outputs": [],
   "source": [
    "#Q.5 Given a number n. Print if it is an armstrong number or not.An armstrong number is a number if the sum \n",
    "#of every digit in that number raised to the power of total digits in that number is equal to the number\n",
    "\n",
    "def is_armstrong_number(n):\n",
    "    num_str = str(n)\n",
    "    num_digits = len(num_str)\n",
    "    \n",
    "    armstrong_sum = sum(int(digit) ** num_digits for digit in num_str)\n",
    "    \n",
    "    return armstrong_sum == n\n",
    "\n",
    "number = int(input(\"Enter a number: \"))\n",
    "if is_armstrong_number(number):\n",
    "    print(f\"{number} is an armstrong number.\")\n",
    "else:\n",
    "    print(f\"{number} is not an armstrong number.\")\n",
    "    "
   ]
  },
  {
   "cell_type": "code",
   "execution_count": null,
   "id": "5ef9f868-3556-46c0-930f-6e8ce6230998",
   "metadata": {},
   "outputs": [],
   "source": []
  }
 ],
 "metadata": {
  "kernelspec": {
   "display_name": "Python 3 (ipykernel)",
   "language": "python",
   "name": "python3"
  },
  "language_info": {
   "codemirror_mode": {
    "name": "ipython",
    "version": 3
   },
   "file_extension": ".py",
   "mimetype": "text/x-python",
   "name": "python",
   "nbconvert_exporter": "python",
   "pygments_lexer": "ipython3",
   "version": "3.10.8"
  }
 },
 "nbformat": 4,
 "nbformat_minor": 5
}
